{
  "nbformat": 4,
  "nbformat_minor": 0,
  "metadata": {
    "colab": {
      "provenance": [],
      "authorship_tag": "ABX9TyMbj+8/WOxMO/vvxRwZKTu3",
      "include_colab_link": true
    },
    "kernelspec": {
      "name": "python3",
      "display_name": "Python 3"
    },
    "language_info": {
      "name": "python"
    }
  },
  "cells": [
    {
      "cell_type": "markdown",
      "metadata": {
        "id": "view-in-github",
        "colab_type": "text"
      },
      "source": [
        "<a href=\"https://colab.research.google.com/github/IgniaFlame/test_1/blob/main/Untitled1.ipynb\" target=\"_parent\"><img src=\"https://colab.research.google.com/assets/colab-badge.svg\" alt=\"Open In Colab\"/></a>"
      ]
    },
    {
      "cell_type": "code",
      "source": [
        "x, odd = [1,2,3,4,5,6,7,8,9], 0\n",
        "for i in range (len(x)):\n",
        "  if x[i] % 2 == 1:\n",
        "    odd += 1\n",
        "    print (x[i])"
      ],
      "metadata": {
        "id": "wYdXn1AsGvar",
        "outputId": "bfd432e5-adbf-4524-d194-b416bdb1fe88",
        "colab": {
          "base_uri": "https://localhost:8080/"
        }
      },
      "execution_count": 11,
      "outputs": [
        {
          "output_type": "stream",
          "name": "stdout",
          "text": [
            "1\n",
            "3\n",
            "5\n",
            "7\n",
            "9\n"
          ]
        }
      ]
    },
    {
      "cell_type": "code",
      "source": [
        "def func(a,b):\n",
        "  print(a**2, b**2)\n",
        "\n",
        "func(3,10)"
      ],
      "metadata": {
        "id": "YvfRb8ZnL00z",
        "outputId": "de0e37d0-2a95-4427-be60-3653e889be79",
        "colab": {
          "base_uri": "https://localhost:8080/"
        }
      },
      "execution_count": 12,
      "outputs": [
        {
          "output_type": "stream",
          "name": "stdout",
          "text": [
            "9 100\n"
          ]
        }
      ]
    },
    {
      "cell_type": "code",
      "source": [
        "from math import sin, pi\n",
        "result =sin(pi)\n",
        "print (result)"
      ],
      "metadata": {
        "id": "WoH5rE3TOPiV",
        "outputId": "e5ced242-15fc-43d3-8454-59dadca9f161",
        "colab": {
          "base_uri": "https://localhost:8080/"
        }
      },
      "execution_count": 13,
      "outputs": [
        {
          "output_type": "stream",
          "name": "stdout",
          "text": [
            "1.2246467991473532e-16\n"
          ]
        }
      ]
    },
    {
      "cell_type": "code",
      "source": [
        "def what_adds (nums, target):\n",
        "  for i in range (len(nums)):\n",
        "    for j in range (i+1, len(nums)):\n",
        "      if (nums[i] + nums[j] == target) and (nums[i] != nums[j]):\n",
        "        print (nums[i], nums[j])\n",
        "        break\n",
        "\n",
        "what_adds([2,3,4], 6)"
      ],
      "metadata": {
        "id": "YELkrcPNS_4s",
        "outputId": "3824ec0a-7321-41b3-8987-06da56af2fc7",
        "colab": {
          "base_uri": "https://localhost:8080/"
        }
      },
      "execution_count": 42,
      "outputs": [
        {
          "output_type": "stream",
          "name": "stdout",
          "text": [
            "2 4\n"
          ]
        }
      ]
    },
    {
      "cell_type": "code",
      "source": [
        "def what_squares (x):\n",
        "  print(x**0.5)\n",
        "  \n",
        "\n",
        "what_squares(8)"
      ],
      "metadata": {
        "id": "BycLvckQVqJw",
        "outputId": "fde0b9a6-b452-4bc0-b6f2-8f3fc7b67ec9",
        "colab": {
          "base_uri": "https://localhost:8080/"
        }
      },
      "execution_count": 41,
      "outputs": [
        {
          "output_type": "stream",
          "name": "stdout",
          "text": [
            "2.8284271247461903\n"
          ]
        }
      ]
    }
  ]
}